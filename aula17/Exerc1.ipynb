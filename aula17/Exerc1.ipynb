{
  "nbformat": 4,
  "nbformat_minor": 0,
  "metadata": {
    "colab": {
      "provenance": []
    },
    "kernelspec": {
      "name": "python3",
      "display_name": "Python 3"
    },
    "language_info": {
      "name": "python"
    }
  },
  "cells": [
    {
      "cell_type": "code",
      "execution_count": 13,
      "metadata": {
        "colab": {
          "base_uri": "https://localhost:8080/"
        },
        "id": "3dACDXQqUECU",
        "outputId": "6cdf1c88-f78c-4b50-b1ce-3324b8190a1f"
      },
      "outputs": [
        {
          "output_type": "stream",
          "name": "stdout",
          "text": [
            "Digite \"1\" para \"Sim\" e \"0\" para \"Não\".\n",
            "\n",
            "Você possui nome negativo?1\n",
            "Você não pode realizar empréstimos.\n"
          ]
        }
      ],
      "source": [
        "print('Digite \"1\" para \"Sim\" e \"0\" para \"Não\".\\n')\n",
        "\n",
        "nome = int(input(\"Você possui nome negativo? \"))\n",
        "if nome == 1:\n",
        "  print(\"Você não pode realizar empréstimos.\")\n",
        "else:\n",
        "  carteira = int(input(\"Você possui carteira assinada? \"))\n",
        "  if carteira == 0:\n",
        "    print(\"Você não pode realizar empréstimos.\")\n",
        "  else:\n",
        "    casa = int(input(\"Você possui uma residência própria? \"))\n",
        "    if casa == 0:\n",
        "      print(\"Você não pode realizar empréstimos.\")\n",
        "    else:\n",
        "      print(\"Você tem direito ao empréstimo.\")\n"
      ]
    },
    {
      "cell_type": "code",
      "source": [],
      "metadata": {
        "id": "IOsrforsU8cK"
      },
      "execution_count": null,
      "outputs": []
    }
  ]
}