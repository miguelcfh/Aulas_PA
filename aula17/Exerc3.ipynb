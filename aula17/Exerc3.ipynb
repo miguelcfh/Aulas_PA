{
  "nbformat": 4,
  "nbformat_minor": 0,
  "metadata": {
    "colab": {
      "provenance": []
    },
    "kernelspec": {
      "name": "python3",
      "display_name": "Python 3"
    },
    "language_info": {
      "name": "python"
    }
  },
  "cells": [
    {
      "cell_type": "code",
      "execution_count": 50,
      "metadata": {
        "colab": {
          "base_uri": "https://localhost:8080/"
        },
        "id": "3dACDXQqUECU",
        "outputId": "cc954b70-dc91-4676-dd05-a00d7d8682de"
      },
      "outputs": [
        {
          "output_type": "stream",
          "name": "stdout",
          "text": [
            "Sobre qual você seja saber?\n",
            "Digite \"1\" para \"Tensão\", \"2\" para \"Resistência\" ou \"3\" para \"Corrente\".\n",
            "5\n",
            "Valor Ínvalido.\n"
          ]
        }
      ],
      "source": [
        "print(\"Sobre qual você seja saber?\")\n",
        "resposta = int(input('Digite \"1\" para \"Tensão\", \"2\" para \"Resistência\" ou \"3\" para \"Corrente\".\\n'))\n",
        "if resposta == 1:\n",
        "  resis = int(input(\"Informe o valor da Resistência: \"))\n",
        "  corren = int(input(\"Informe o valor da Corrente: \\n\"))\n",
        "  print(\"O valor da Tensão é:\",resis*corren)\n",
        "else:\n",
        "  if resposta == 2:\n",
        "    tens = int(input(\"Informe o valor da Tensão: \"))\n",
        "    corren = int(input(\"Informe o valor da Corrente: \\n\"))\n",
        "    print(\"O valor da Resistência é:\",tens*corren)\n",
        "  else:\n",
        "    if resposta == 3:\n",
        "      tens = int(input(\"Informe o valor da Tensão: \"))\n",
        "      resis = int(input(\"Informe o valor da Resistência: \\n\"))\n",
        "      print(\"O valor da Corrente é:\",tens*resis)\n",
        "    else:\n",
        "      print(\"Valor Ínvalido.\")\n"
      ]
    },
    {
      "cell_type": "markdown",
      "source": [],
      "metadata": {
        "id": "G8jkYCmJsZXh"
      }
    }
  ]
}