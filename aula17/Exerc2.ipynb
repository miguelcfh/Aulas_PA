{
  "nbformat": 4,
  "nbformat_minor": 0,
  "metadata": {
    "colab": {
      "provenance": []
    },
    "kernelspec": {
      "name": "python3",
      "display_name": "Python 3"
    },
    "language_info": {
      "name": "python"
    }
  },
  "cells": [
    {
      "cell_type": "code",
      "execution_count": 42,
      "metadata": {
        "colab": {
          "base_uri": "https://localhost:8080/"
        },
        "id": "3dACDXQqUECU",
        "outputId": "ff0e249d-e440-4748-e924-e84248a6e789"
      },
      "outputs": [
        {
          "output_type": "stream",
          "name": "stdout",
          "text": [
            "Quantas camisas você irá comprar? 9\n",
            "O valor final é de: 106.875\n"
          ]
        }
      ],
      "source": [
        "preco = 12.50\n",
        "camisas = int(input(\"Quantas camisas você irá comprar? \"))\n",
        "valorfinal = (preco*camisas)\n",
        "if camisas <= 5:\n",
        "  desconto = (valorfinal*3/100)\n",
        "  print(\"O valor final é de:\",valorfinal - desconto)\n",
        "else:\n",
        "  if ((camisas >5) and (camisas <=10)):\n",
        "    desconto = (valorfinal*5/100)\n",
        "    print(\"O valor final é de:\",valorfinal - desconto)\n",
        "  else:\n",
        "    if (camisas >10):\n",
        "      desconto = (valorfinal*7/100)\n",
        "      print(\"O valor final é de:\",valorfinal - desconto)"
      ]
    }
  ]
}