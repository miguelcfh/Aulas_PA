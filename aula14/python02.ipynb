{
  "nbformat": 4,
  "nbformat_minor": 0,
  "metadata": {
    "colab": {
      "provenance": []
    },
    "kernelspec": {
      "name": "python3",
      "display_name": "Python 3"
    },
    "language_info": {
      "name": "python"
    }
  },
  "cells": [
    {
      "cell_type": "markdown",
      "source": [
        "# **Trabalhando com strings**"
      ],
      "metadata": {
        "id": "yIYYyHZd2d_0"
      }
    },
    {
      "cell_type": "markdown",
      "source": [
        "## Comparando strings"
      ],
      "metadata": {
        "id": "dlOhH7Ar3UWw"
      }
    },
    {
      "cell_type": "code",
      "source": [
        "str1 = 'Olá Mundo!'\n",
        "str2 = \"Olá Mundo!\"\n",
        "\n",
        "#Comparando as strings das duas variáveis\n",
        "print(str1 == str2)"
      ],
      "metadata": {
        "colab": {
          "base_uri": "https://localhost:8080/"
        },
        "id": "BKiLIdFL3aE6",
        "outputId": "db7a1b29-30db-4197-83cc-10024bfc5210"
      },
      "execution_count": 1,
      "outputs": [
        {
          "output_type": "stream",
          "name": "stdout",
          "text": [
            "True\n"
          ]
        }
      ]
    },
    {
      "cell_type": "code",
      "source": [
        "str3 = 'Olá Mundo!'\n",
        "str4 = \"olá mundo!\"\n",
        "\n",
        "#Comparando as strings das duas variáveis\n",
        "print(str3 == str4)"
      ],
      "metadata": {
        "colab": {
          "base_uri": "https://localhost:8080/"
        },
        "id": "1e59_95X2y86",
        "outputId": "0984c8fb-cfe9-4a38-de36-55dfcc014a91"
      },
      "execution_count": 2,
      "outputs": [
        {
          "output_type": "stream",
          "name": "stdout",
          "text": [
            "False\n"
          ]
        }
      ]
    },
    {
      "cell_type": "code",
      "source": [
        "#Juntando duas strings\n",
        "primeiro = \"Miguel Luiz \"\n",
        "segundo = \"Sommerfeld\"\n",
        "\n",
        "#Quando for string, o sinal + junta\n",
        "resultado = primeiro + segundo\n",
        "print(resultado)"
      ],
      "metadata": {
        "colab": {
          "base_uri": "https://localhost:8080/"
        },
        "id": "ymUmPRqW2suy",
        "outputId": "52d85ef1-fd6b-47c4-c921-0894abbe3db2"
      },
      "execution_count": 4,
      "outputs": [
        {
          "output_type": "stream",
          "name": "stdout",
          "text": [
            "Miguel Luiz Sommerfeld\n"
          ]
        }
      ]
    },
    {
      "cell_type": "markdown",
      "source": [
        "## Tamanho de uma string"
      ],
      "metadata": {
        "id": "TSj7QA4k6K4e"
      }
    },
    {
      "cell_type": "code",
      "source": [
        "#Para obter o tamanho de uma string, usamos a função len()\n",
        "tamanho = len(primeiro)\n",
        "print('O tamanho é:',tamanho)"
      ],
      "metadata": {
        "colab": {
          "base_uri": "https://localhost:8080/"
        },
        "id": "9m3g3VKg6Xs4",
        "outputId": "0d758386-bcb4-4786-fa35-869afd015416"
      },
      "execution_count": 5,
      "outputs": [
        {
          "output_type": "stream",
          "name": "stdout",
          "text": [
            "O tamanho é: 12\n"
          ]
        }
      ]
    },
    {
      "cell_type": "markdown",
      "source": [
        "## Iterando cada caracter de uma string"
      ],
      "metadata": {
        "id": "14PqNJ9y73zP"
      }
    },
    {
      "cell_type": "code",
      "source": [
        "palavra = \"Vamos nessa!\"\n",
        "\n",
        "for letra in palavra:\n",
        "  print(letra)"
      ],
      "metadata": {
        "colab": {
          "base_uri": "https://localhost:8080/"
        },
        "id": "WGDV3XDo8BD4",
        "outputId": "31cb504d-47d4-47fd-83dd-15ad382ba65c"
      },
      "execution_count": 8,
      "outputs": [
        {
          "output_type": "stream",
          "name": "stdout",
          "text": [
            "V\n",
            "a\n",
            "m\n",
            "o\n",
            "s\n",
            " \n",
            "n\n",
            "e\n",
            "s\n",
            "s\n",
            "a\n",
            "!\n"
          ]
        }
      ]
    },
    {
      "cell_type": "markdown",
      "source": [
        "## Localizando uma letra pelo índice"
      ],
      "metadata": {
        "id": "-HQER62p9rUp"
      }
    },
    {
      "cell_type": "markdown",
      "source": [
        "Toda string é como se fosse uma lista e cada letra corresponde a um índice dessa lista começando por 0.\n",
        "\n",
        "Exemplo: nome = \"Darrell\"\n",
        "nome[0] ==> em F"
      ],
      "metadata": {
        "id": "8-wojPoe986T"
      }
    },
    {
      "cell_type": "code",
      "source": [
        "print(palavra[2:])"
      ],
      "metadata": {
        "colab": {
          "base_uri": "https://localhost:8080/"
        },
        "id": "-Do381Ro-ahB",
        "outputId": "9082555a-e6e5-449c-a845-f8354564d70e"
      },
      "execution_count": 11,
      "outputs": [
        {
          "output_type": "stream",
          "name": "stdout",
          "text": [
            "mos nessa!\n"
          ]
        }
      ]
    },
    {
      "cell_type": "code",
      "source": [
        "print(palavra[11])"
      ],
      "metadata": {
        "colab": {
          "base_uri": "https://localhost:8080/"
        },
        "id": "bDvCSYut90xs",
        "outputId": "ac9e740e-0243-466c-fc31-76e4902eaf0d"
      },
      "execution_count": 13,
      "outputs": [
        {
          "output_type": "stream",
          "name": "stdout",
          "text": [
            "!\n"
          ]
        }
      ]
    },
    {
      "cell_type": "markdown",
      "source": [
        "## Outras funções de strings"
      ],
      "metadata": {
        "id": "rDBLtUCEAh90"
      }
    },
    {
      "cell_type": "code",
      "source": [
        "aluno = 'Miguel Sommerfeld'\n",
        "\n",
        "#Convertendo para maiúsculas\n",
        "print(aluno.upper())"
      ],
      "metadata": {
        "colab": {
          "base_uri": "https://localhost:8080/"
        },
        "id": "ES29rqwtAoaa",
        "outputId": "fc17bf6c-4a3b-458d-81fe-44d9253c3896"
      },
      "execution_count": 14,
      "outputs": [
        {
          "output_type": "stream",
          "name": "stdout",
          "text": [
            "MIGUEL SOMMERFELD\n"
          ]
        }
      ]
    },
    {
      "cell_type": "code",
      "source": [
        "print(aluno)"
      ],
      "metadata": {
        "colab": {
          "base_uri": "https://localhost:8080/"
        },
        "id": "R1DXF-h89kdg",
        "outputId": "79f8ad25-6885-4109-a467-d25a19f4c93e"
      },
      "execution_count": 15,
      "outputs": [
        {
          "output_type": "stream",
          "name": "stdout",
          "text": [
            "Miguel Sommerfeld\n"
          ]
        }
      ]
    },
    {
      "cell_type": "code",
      "source": [
        "aluno = aluno.upper()\n",
        "print(aluno)"
      ],
      "metadata": {
        "colab": {
          "base_uri": "https://localhost:8080/"
        },
        "id": "Zl6Yd4kdDBER",
        "outputId": "96ace28f-3644-4217-e33f-c7e33888b036"
      },
      "execution_count": 18,
      "outputs": [
        {
          "output_type": "stream",
          "name": "stdout",
          "text": [
            "MIGUEL SOMMERFELD\n"
          ]
        }
      ]
    },
    {
      "cell_type": "code",
      "source": [
        "#Deixar em minúsculo\n",
        "print(aluno.lower())"
      ],
      "metadata": {
        "colab": {
          "base_uri": "https://localhost:8080/"
        },
        "id": "nvh37e0lDHlN",
        "outputId": "fc0b5df1-6936-442d-cfef-3c98f1bb8612"
      },
      "execution_count": 19,
      "outputs": [
        {
          "output_type": "stream",
          "name": "stdout",
          "text": [
            "miguel sommerfeld\n"
          ]
        }
      ]
    },
    {
      "cell_type": "code",
      "source": [
        "#Procurando um caracter em uma string\n",
        "print('r' in aluno)"
      ],
      "metadata": {
        "colab": {
          "base_uri": "https://localhost:8080/"
        },
        "id": "RO1yRL5cFOiF",
        "outputId": "ff5a33b3-6d4d-4a01-87c6-6c5de3a98439"
      },
      "execution_count": 23,
      "outputs": [
        {
          "output_type": "stream",
          "name": "stdout",
          "text": [
            "False\n"
          ]
        }
      ]
    },
    {
      "cell_type": "code",
      "source": [],
      "metadata": {
        "id": "7AR2pQaoHLJw"
      },
      "execution_count": null,
      "outputs": []
    }
  ]
}