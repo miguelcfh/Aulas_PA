{
  "nbformat": 4,
  "nbformat_minor": 0,
  "metadata": {
    "colab": {
      "provenance": []
    },
    "kernelspec": {
      "name": "python3",
      "display_name": "Python 3"
    },
    "language_info": {
      "name": "python"
    }
  },
  "cells": [
    {
      "cell_type": "markdown",
      "source": [
        "Exemplo 1 - Somando dois números"
      ],
      "metadata": {
        "id": "06vq9L91FhhE"
      }
    },
    {
      "cell_type": "code",
      "source": [
        "n1 = 12\n",
        "n2 = 10\n",
        "soma = n1 + n2\n",
        "soma"
      ],
      "metadata": {
        "colab": {
          "base_uri": "https://localhost:8080/"
        },
        "id": "YFsdLY0kFqoN",
        "outputId": "ae79ebc8-4460-48a3-a0b0-5f24755c2d9a"
      },
      "execution_count": 2,
      "outputs": [
        {
          "output_type": "execute_result",
          "data": {
            "text/plain": [
              "22"
            ]
          },
          "metadata": {},
          "execution_count": 2
        }
      ]
    },
    {
      "cell_type": "code",
      "execution_count": 3,
      "metadata": {
        "colab": {
          "base_uri": "https://localhost:8080/"
        },
        "id": "LInqILM1E-Am",
        "outputId": "2c07e5da-4729-4b70-f132-94657ca994ad"
      },
      "outputs": [
        {
          "output_type": "stream",
          "name": "stdout",
          "text": [
            "A soma é: 22\n"
          ]
        }
      ],
      "source": [
        "print(\"A soma é:\",soma)"
      ]
    },
    {
      "cell_type": "code",
      "source": [
        "print(\"A soma é:{}\".format(soma))"
      ],
      "metadata": {
        "colab": {
          "base_uri": "https://localhost:8080/"
        },
        "id": "Vyt1P8kVGk_b",
        "outputId": "56a26278-d204-42c4-ea17-cbb9e4231401"
      },
      "execution_count": 5,
      "outputs": [
        {
          "output_type": "stream",
          "name": "stdout",
          "text": [
            "A soma é:22\n"
          ]
        }
      ]
    },
    {
      "cell_type": "code",
      "source": [
        "print(\"A soma de {} com {} é {}\".format(n1,n2,soma))"
      ],
      "metadata": {
        "colab": {
          "base_uri": "https://localhost:8080/"
        },
        "id": "2D4y8mDOG-Az",
        "outputId": "18565d72-33d0-4c93-c922-4e90957dc988"
      },
      "execution_count": 6,
      "outputs": [
        {
          "output_type": "stream",
          "name": "stdout",
          "text": [
            "A soma de 12 com 10 é 22\n"
          ]
        }
      ]
    },
    {
      "cell_type": "markdown",
      "source": [
        "Operadores Aritméticos"
      ],
      "metadata": {
        "id": "uA3Und0YIHuU"
      }
    },
    {
      "cell_type": "code",
      "source": [
        "10%2"
      ],
      "metadata": {
        "colab": {
          "base_uri": "https://localhost:8080/"
        },
        "id": "LAXWWEU0Gzxb",
        "outputId": "bab419e5-7f5e-45a4-8138-16bf91b7da52"
      },
      "execution_count": 7,
      "outputs": [
        {
          "output_type": "execute_result",
          "data": {
            "text/plain": [
              "0"
            ]
          },
          "metadata": {},
          "execution_count": 7
        }
      ]
    },
    {
      "cell_type": "code",
      "source": [
        "64**(1/2)"
      ],
      "metadata": {
        "colab": {
          "base_uri": "https://localhost:8080/"
        },
        "id": "uVWiTClOJi3R",
        "outputId": "fb7f022d-b3d3-4f43-8aba-53a793c365fe"
      },
      "execution_count": 8,
      "outputs": [
        {
          "output_type": "execute_result",
          "data": {
            "text/plain": [
              "8.0"
            ]
          },
          "metadata": {},
          "execution_count": 8
        }
      ]
    },
    {
      "cell_type": "code",
      "source": [
        "10 // 3"
      ],
      "metadata": {
        "colab": {
          "base_uri": "https://localhost:8080/"
        },
        "id": "cVA_1QSIJr6e",
        "outputId": "94ec465d-2f34-4231-929b-311d0e6fecc8"
      },
      "execution_count": 9,
      "outputs": [
        {
          "output_type": "execute_result",
          "data": {
            "text/plain": [
              "3"
            ]
          },
          "metadata": {},
          "execution_count": 9
        }
      ]
    },
    {
      "cell_type": "markdown",
      "source": [
        "Operadores Lógicos"
      ],
      "metadata": {
        "id": "mF3TYQJoJz3u"
      }
    },
    {
      "cell_type": "code",
      "source": [
        "a = True\n",
        "b = False"
      ],
      "metadata": {
        "id": "OtmZWu5NJ2-j"
      },
      "execution_count": 10,
      "outputs": []
    },
    {
      "cell_type": "code",
      "source": [
        "a and b"
      ],
      "metadata": {
        "colab": {
          "base_uri": "https://localhost:8080/"
        },
        "id": "4rNkUE-8Jxem",
        "outputId": "dc0789a3-b129-4516-8d32-d6d743dfe422"
      },
      "execution_count": 11,
      "outputs": [
        {
          "output_type": "execute_result",
          "data": {
            "text/plain": [
              "False"
            ]
          },
          "metadata": {},
          "execution_count": 11
        }
      ]
    },
    {
      "cell_type": "markdown",
      "source": [
        "![image.png](data:image/png;base64,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)"
      ],
      "metadata": {
        "id": "fSQm31hHNCGO"
      }
    },
    {
      "cell_type": "markdown",
      "source": [
        "Operadores Relacionais"
      ],
      "metadata": {
        "id": "nKd7Tjy_NHKV"
      }
    },
    {
      "cell_type": "code",
      "source": [
        "10 > 10"
      ],
      "metadata": {
        "colab": {
          "base_uri": "https://localhost:8080/"
        },
        "id": "KbWNWXv9LsEa",
        "outputId": "c069df56-c104-4ada-8271-b7fefb5bac35"
      },
      "execution_count": 12,
      "outputs": [
        {
          "output_type": "execute_result",
          "data": {
            "text/plain": [
              "False"
            ]
          },
          "metadata": {},
          "execution_count": 12
        }
      ]
    },
    {
      "cell_type": "code",
      "source": [
        "10 == 10"
      ],
      "metadata": {
        "colab": {
          "base_uri": "https://localhost:8080/"
        },
        "id": "ZU0v7yD3OGDk",
        "outputId": "3d7a1e1a-e264-48c1-82d0-7f9c2462044c"
      },
      "execution_count": 13,
      "outputs": [
        {
          "output_type": "execute_result",
          "data": {
            "text/plain": [
              "True"
            ]
          },
          "metadata": {},
          "execution_count": 13
        }
      ]
    },
    {
      "cell_type": "code",
      "source": [
        "'A' == 'a'"
      ],
      "metadata": {
        "colab": {
          "base_uri": "https://localhost:8080/"
        },
        "id": "609PaQWmOHgU",
        "outputId": "00bb0ebb-dd19-40c6-f62f-ab87cdcf2c80"
      },
      "execution_count": 14,
      "outputs": [
        {
          "output_type": "execute_result",
          "data": {
            "text/plain": [
              "False"
            ]
          },
          "metadata": {},
          "execution_count": 14
        }
      ]
    },
    {
      "cell_type": "code",
      "source": [
        "t1 = 10\n",
        "t2 = '10'\n",
        "t1 == t2"
      ],
      "metadata": {
        "colab": {
          "base_uri": "https://localhost:8080/"
        },
        "id": "lMS4Z5QuOLXs",
        "outputId": "53d4e37f-e7d6-4e20-c89c-4796f766e04e"
      },
      "execution_count": 15,
      "outputs": [
        {
          "output_type": "execute_result",
          "data": {
            "text/plain": [
              "False"
            ]
          },
          "metadata": {},
          "execution_count": 15
        }
      ]
    },
    {
      "cell_type": "code",
      "source": [
        "type(t1)"
      ],
      "metadata": {
        "colab": {
          "base_uri": "https://localhost:8080/"
        },
        "id": "ntZAYdjiO9kd",
        "outputId": "1cb92c0c-dd6f-4359-f446-89e9f0ad2458"
      },
      "execution_count": 16,
      "outputs": [
        {
          "output_type": "execute_result",
          "data": {
            "text/plain": [
              "int"
            ]
          },
          "metadata": {},
          "execution_count": 16
        }
      ]
    },
    {
      "cell_type": "code",
      "source": [
        "type(t2)"
      ],
      "metadata": {
        "colab": {
          "base_uri": "https://localhost:8080/"
        },
        "id": "NPU_x1EMPB41",
        "outputId": "ef64a121-ece1-4a84-bf04-faed736a59e2"
      },
      "execution_count": 17,
      "outputs": [
        {
          "output_type": "execute_result",
          "data": {
            "text/plain": [
              "str"
            ]
          },
          "metadata": {},
          "execution_count": 17
        }
      ]
    },
    {
      "cell_type": "markdown",
      "source": [
        "Conversão de tipos"
      ],
      "metadata": {
        "id": "Zmttw8jaPEEV"
      }
    },
    {
      "cell_type": "code",
      "source": [
        "novo_t2 = int(t2)\n",
        "novo_t2"
      ],
      "metadata": {
        "colab": {
          "base_uri": "https://localhost:8080/"
        },
        "id": "-FruLpp-PIIF",
        "outputId": "8719bdce-684c-4897-fda6-7d8037ab746e"
      },
      "execution_count": 18,
      "outputs": [
        {
          "output_type": "execute_result",
          "data": {
            "text/plain": [
              "10"
            ]
          },
          "metadata": {},
          "execution_count": 18
        }
      ]
    },
    {
      "cell_type": "code",
      "source": [
        "type(novo_t2)"
      ],
      "metadata": {
        "colab": {
          "base_uri": "https://localhost:8080/"
        },
        "id": "PDmjPIafPRyL",
        "outputId": "8a435e84-b73f-4107-d996-2a4a6094e9aa"
      },
      "execution_count": 19,
      "outputs": [
        {
          "output_type": "execute_result",
          "data": {
            "text/plain": [
              "int"
            ]
          },
          "metadata": {},
          "execution_count": 19
        }
      ]
    },
    {
      "cell_type": "code",
      "source": [
        "t1 == novo_t2"
      ],
      "metadata": {
        "colab": {
          "base_uri": "https://localhost:8080/"
        },
        "id": "AktWvvqRPzmR",
        "outputId": "f3a52615-1e1b-4535-c197-1001f278c361"
      },
      "execution_count": 21,
      "outputs": [
        {
          "output_type": "execute_result",
          "data": {
            "text/plain": [
              "True"
            ]
          },
          "metadata": {},
          "execution_count": 21
        }
      ]
    },
    {
      "cell_type": "markdown",
      "source": [
        "Recebendo dados via input"
      ],
      "metadata": {
        "id": "myb4mjHrP5kP"
      }
    },
    {
      "cell_type": "code",
      "source": [
        "nome = input('Digite seu nome')"
      ],
      "metadata": {
        "colab": {
          "base_uri": "https://localhost:8080/"
        },
        "id": "AugmmgzzP9eV",
        "outputId": "d63ba666-d465-447c-fded-d1b86f973e06"
      },
      "execution_count": 22,
      "outputs": [
        {
          "name": "stdout",
          "output_type": "stream",
          "text": [
            "Digite seu nomeMiguel\n"
          ]
        }
      ]
    },
    {
      "cell_type": "code",
      "source": [
        "nome"
      ],
      "metadata": {
        "colab": {
          "base_uri": "https://localhost:8080/",
          "height": 35
        },
        "id": "UT3rRzqFQQEO",
        "outputId": "98534656-fdd1-41cf-fd43-4a94d8a9f81b"
      },
      "execution_count": 23,
      "outputs": [
        {
          "output_type": "execute_result",
          "data": {
            "text/plain": [
              "'Miguel'"
            ],
            "application/vnd.google.colaboratory.intrinsic+json": {
              "type": "string"
            }
          },
          "metadata": {},
          "execution_count": 23
        }
      ]
    },
    {
      "cell_type": "code",
      "source": [
        "idade = int(input('Digite sua idade'))"
      ],
      "metadata": {
        "colab": {
          "base_uri": "https://localhost:8080/"
        },
        "id": "Y5Ay6JM9QQ5W",
        "outputId": "dce3b507-c539-414c-caee-13502ee12a6a"
      },
      "execution_count": 29,
      "outputs": [
        {
          "name": "stdout",
          "output_type": "stream",
          "text": [
            "Digite sua idade15\n"
          ]
        }
      ]
    },
    {
      "cell_type": "code",
      "source": [
        "idade"
      ],
      "metadata": {
        "colab": {
          "base_uri": "https://localhost:8080/"
        },
        "id": "NCHHY2BlQXhh",
        "outputId": "f4f4cae0-d95b-497d-b6de-8d7e28120153"
      },
      "execution_count": 30,
      "outputs": [
        {
          "output_type": "execute_result",
          "data": {
            "text/plain": [
              "15"
            ]
          },
          "metadata": {},
          "execution_count": 30
        }
      ]
    },
    {
      "cell_type": "code",
      "source": [
        "nasc = 2023 - idade"
      ],
      "metadata": {
        "id": "BIQasilKQncD"
      },
      "execution_count": 32,
      "outputs": []
    },
    {
      "cell_type": "code",
      "source": [
        "nasc"
      ],
      "metadata": {
        "colab": {
          "base_uri": "https://localhost:8080/"
        },
        "id": "oUBjzXIeRhid",
        "outputId": "8ca3e53b-566a-4c24-8995-f9b9cf9dc755"
      },
      "execution_count": 33,
      "outputs": [
        {
          "output_type": "execute_result",
          "data": {
            "text/plain": [
              "2008"
            ]
          },
          "metadata": {},
          "execution_count": 33
        }
      ]
    },
    {
      "cell_type": "code",
      "source": [
        "print('Olá {}, você possui {} anos e você nasceu em {}.'.format(nome,idade,nasc))"
      ],
      "metadata": {
        "colab": {
          "base_uri": "https://localhost:8080/"
        },
        "id": "YfkJiP18Qml7",
        "outputId": "b1ead160-4d13-4a48-fdbb-9a5dd92b8c1d"
      },
      "execution_count": 35,
      "outputs": [
        {
          "output_type": "stream",
          "name": "stdout",
          "text": [
            "Olá Miguel, você possui 15 anos e você nasceu em 2008.\n"
          ]
        }
      ]
    },
    {
      "cell_type": "markdown",
      "source": [
        "**Exercício 01**\n",
        "\n",
        "Receba 3 valores digitados via teclado e calcule a média destes valores. Exiba na tela da seguinte forma:\n",
        "'A média dos valores digitados é XXX'"
      ],
      "metadata": {
        "id": "44vL5B8bTrVi"
      }
    },
    {
      "cell_type": "code",
      "source": [],
      "metadata": {
        "id": "4hNK8IJjfl_0"
      },
      "execution_count": null,
      "outputs": []
    },
    {
      "cell_type": "code",
      "source": [
        "v1 = float(input('Digite o valor 1: '))\n",
        "v2 = float(input('Digite o valor 2: '))\n",
        "v3 = float(input('Digite o valor 3: '))\n",
        "soma = (v1 + v2 + v3)\n",
        "media = soma / 3\n",
        "print('A média dos valores {}, {} e {} é {}.'.format(v1,v2,v3,(round(media,2))))"
      ],
      "metadata": {
        "colab": {
          "base_uri": "https://localhost:8080/"
        },
        "id": "y_s80Uo7R_xb",
        "outputId": "e5f9e2d9-83d2-4421-a4d5-c857cfca64b3"
      },
      "execution_count": 59,
      "outputs": [
        {
          "output_type": "stream",
          "name": "stdout",
          "text": [
            "Digite o valor 1: 4\n",
            "Digite o valor 2: 63\n",
            "Digite o valor 3: 43\n",
            "A média dos valores 4.0, 63.0 e 43.0 é 36.67.\n"
          ]
        }
      ]
    },
    {
      "cell_type": "markdown",
      "source": [
        "**Exercício 02**\n",
        "\n",
        "Solicite a Largura e a Altura de uma parede. Sabendo que 1 litro de tinta consegue pintar 2m² de parede, informe quantos litros de tinta serão necessários para pintar a parede informada."
      ],
      "metadata": {
        "id": "IX1LVToHeKl_"
      }
    },
    {
      "cell_type": "code",
      "source": [
        "altura = float(input('Digite a Altura da parede:'))\n",
        "largura = float(input('Digite a Largura da parede:'))\n",
        "area = largura * altura"
      ],
      "metadata": {
        "colab": {
          "base_uri": "https://localhost:8080/"
        },
        "id": "zTWqp46efitE",
        "outputId": "85e73467-e99a-439d-bae6-15b364acff07"
      },
      "execution_count": 68,
      "outputs": [
        {
          "name": "stdout",
          "output_type": "stream",
          "text": [
            "Digite a Altura da parede:1.8\n",
            "Digite a Largura da parede:5.5\n"
          ]
        }
      ]
    },
    {
      "cell_type": "code",
      "source": [
        "print('Você orecisará de {} litros de tinta.'.format(area/2))"
      ],
      "metadata": {
        "colab": {
          "base_uri": "https://localhost:8080/"
        },
        "id": "lPBlP1fMfHVO",
        "outputId": "d48033d1-5dc7-48da-e7b4-f9afc56d2043"
      },
      "execution_count": 69,
      "outputs": [
        {
          "output_type": "stream",
          "name": "stdout",
          "text": [
            "Você orecisará de 4.95 litros de tinta.\n"
          ]
        }
      ]
    },
    {
      "cell_type": "code",
      "source": [
        ""
      ],
      "metadata": {
        "id": "1ycn-zPeXYlC"
      },
      "execution_count": null,
      "outputs": []
    }
  ]
}