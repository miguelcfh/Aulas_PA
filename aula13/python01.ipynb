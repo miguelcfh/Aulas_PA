{
  "nbformat": 4,
  "nbformat_minor": 0,
  "metadata": {
    "colab": {
      "provenance": []
    },
    "kernelspec": {
      "name": "python3",
      "display_name": "Python 3"
    },
    "language_info": {
      "name": "python"
    }
  },
  "cells": [
    {
      "cell_type": "markdown",
      "source": [
        "# ***Primeira Aula de Python Básico.***"
      ],
      "metadata": {
        "id": "pgLoYHTf02CO"
      }
    },
    {
      "cell_type": "code",
      "source": [
        "nome = \"Miguel\"\n",
        "idade = 15\n",
        "estudando = True\n",
        "altura = 1.71"
      ],
      "metadata": {
        "id": "7xaewgvl1Q7i"
      },
      "execution_count": null,
      "outputs": []
    },
    {
      "cell_type": "code",
      "source": [
        "print(\"Meu nome é\",nome)"
      ],
      "metadata": {
        "colab": {
          "base_uri": "https://localhost:8080/"
        },
        "id": "c4gOqd9s2yxr",
        "outputId": "5dc58efa-7c8e-4f0d-ba91-706b74a1ca83"
      },
      "execution_count": null,
      "outputs": [
        {
          "output_type": "stream",
          "name": "stdout",
          "text": [
            "Meu nome é Miguel\n"
          ]
        }
      ]
    },
    {
      "cell_type": "code",
      "source": [
        "type(nome)"
      ],
      "metadata": {
        "colab": {
          "base_uri": "https://localhost:8080/"
        },
        "id": "v-mdBu0B3h-n",
        "outputId": "56104c9f-149e-4b28-f5f2-6de81dc95b0d"
      },
      "execution_count": null,
      "outputs": [
        {
          "output_type": "execute_result",
          "data": {
            "text/plain": [
              "str"
            ]
          },
          "metadata": {},
          "execution_count": 3
        }
      ]
    },
    {
      "cell_type": "code",
      "source": [
        "type(idade)"
      ],
      "metadata": {
        "colab": {
          "base_uri": "https://localhost:8080/"
        },
        "id": "KqnrEO2-3zAv",
        "outputId": "1ff87cc7-2981-4ad7-d71e-14169328ab16"
      },
      "execution_count": null,
      "outputs": [
        {
          "output_type": "execute_result",
          "data": {
            "text/plain": [
              "int"
            ]
          },
          "metadata": {},
          "execution_count": 4
        }
      ]
    },
    {
      "cell_type": "code",
      "source": [
        "type(estudando)"
      ],
      "metadata": {
        "colab": {
          "base_uri": "https://localhost:8080/"
        },
        "id": "wpmq3LY037Q4",
        "outputId": "7624bccc-4440-4853-f27e-dd08ba85ef8d"
      },
      "execution_count": null,
      "outputs": [
        {
          "output_type": "execute_result",
          "data": {
            "text/plain": [
              "bool"
            ]
          },
          "metadata": {},
          "execution_count": 5
        }
      ]
    },
    {
      "cell_type": "code",
      "source": [
        "type(altura)"
      ],
      "metadata": {
        "colab": {
          "base_uri": "https://localhost:8080/"
        },
        "id": "x-eZAkHZ3_8g",
        "outputId": "9880c263-72e1-48ba-ec65-8dee60a9cffb"
      },
      "execution_count": null,
      "outputs": [
        {
          "output_type": "execute_result",
          "data": {
            "text/plain": [
              "float"
            ]
          },
          "metadata": {},
          "execution_count": 8
        }
      ]
    },
    {
      "cell_type": "code",
      "source": [
        "cliente = input(\"Digite o nome do cliente:\")"
      ],
      "metadata": {
        "colab": {
          "base_uri": "https://localhost:8080/"
        },
        "id": "CBgx1LXj4E6w",
        "outputId": "442e1fc9-4dc1-4986-a42f-eaacb32ee11d"
      },
      "execution_count": null,
      "outputs": [
        {
          "name": "stdout",
          "output_type": "stream",
          "text": [
            "Digite o nome do cliente:Ricardo\n"
          ]
        }
      ]
    },
    {
      "cell_type": "code",
      "source": [
        "cliente"
      ],
      "metadata": {
        "colab": {
          "base_uri": "https://localhost:8080/",
          "height": 35
        },
        "id": "RDdtqDNX5uvs",
        "outputId": "33fa1114-582c-4ea3-f7d2-0252cd92a647"
      },
      "execution_count": null,
      "outputs": [
        {
          "output_type": "execute_result",
          "data": {
            "text/plain": [
              "'Ricardo'"
            ],
            "application/vnd.google.colaboratory.intrinsic+json": {
              "type": "string"
            }
          },
          "metadata": {},
          "execution_count": 10
        }
      ]
    },
    {
      "cell_type": "code",
      "source": [
        "21+32"
      ],
      "metadata": {
        "id": "FL5kXNfg56mq",
        "colab": {
          "base_uri": "https://localhost:8080/"
        },
        "outputId": "6cf10b14-ea54-40fa-a5cd-085bf317578d"
      },
      "execution_count": 11,
      "outputs": [
        {
          "output_type": "execute_result",
          "data": {
            "text/plain": [
              "53"
            ]
          },
          "metadata": {},
          "execution_count": 11
        }
      ]
    },
    {
      "cell_type": "code",
      "source": [
        "5/2"
      ],
      "metadata": {
        "colab": {
          "base_uri": "https://localhost:8080/"
        },
        "id": "01X6LXsb60ih",
        "outputId": "05ae560e-66c1-4d54-9798-4972c2213868"
      },
      "execution_count": 12,
      "outputs": [
        {
          "output_type": "execute_result",
          "data": {
            "text/plain": [
              "2.5"
            ]
          },
          "metadata": {},
          "execution_count": 12
        }
      ]
    },
    {
      "cell_type": "code",
      "source": [
        "5//2"
      ],
      "metadata": {
        "colab": {
          "base_uri": "https://localhost:8080/"
        },
        "id": "oWsg8jn465g6",
        "outputId": "c31c2534-c803-44cd-e34d-56ad284e49cb"
      },
      "execution_count": 13,
      "outputs": [
        {
          "output_type": "execute_result",
          "data": {
            "text/plain": [
              "2"
            ]
          },
          "metadata": {},
          "execution_count": 13
        }
      ]
    },
    {
      "cell_type": "code",
      "source": [
        "5%2"
      ],
      "metadata": {
        "colab": {
          "base_uri": "https://localhost:8080/"
        },
        "id": "lvuJqd3x66Yy",
        "outputId": "9a7095f5-f761-4bd0-cbc5-c759837b25dd"
      },
      "execution_count": 14,
      "outputs": [
        {
          "output_type": "execute_result",
          "data": {
            "text/plain": [
              "1"
            ]
          },
          "metadata": {},
          "execution_count": 14
        }
      ]
    },
    {
      "cell_type": "code",
      "source": [
        "5**2"
      ],
      "metadata": {
        "colab": {
          "base_uri": "https://localhost:8080/"
        },
        "id": "m_48hGZ-7Hxz",
        "outputId": "a2a26e72-e83b-4fd6-d5cc-73eb8152d58d"
      },
      "execution_count": 15,
      "outputs": [
        {
          "output_type": "execute_result",
          "data": {
            "text/plain": [
              "25"
            ]
          },
          "metadata": {},
          "execution_count": 15
        }
      ]
    },
    {
      "cell_type": "code",
      "source": [
        "# extraindo uma raiz quadrada\n",
        "5**(1/2)"
      ],
      "metadata": {
        "colab": {
          "base_uri": "https://localhost:8080/"
        },
        "id": "LfjveKts7fQg",
        "outputId": "407c0448-5804-4a7f-c23a-8aaf2cd7fb23"
      },
      "execution_count": 16,
      "outputs": [
        {
          "output_type": "execute_result",
          "data": {
            "text/plain": [
              "2.23606797749979"
            ]
          },
          "metadata": {},
          "execution_count": 16
        }
      ]
    },
    {
      "cell_type": "code",
      "source": [
        "a = 10\n",
        "b = '10'"
      ],
      "metadata": {
        "id": "0oYgeiwo8aI7"
      },
      "execution_count": 27,
      "outputs": []
    },
    {
      "cell_type": "code",
      "source": [
        "b = int(b)"
      ],
      "metadata": {
        "id": "Wq2-iB7q-lgS"
      },
      "execution_count": 29,
      "outputs": []
    },
    {
      "cell_type": "code",
      "source": [
        "type(a)"
      ],
      "metadata": {
        "colab": {
          "base_uri": "https://localhost:8080/"
        },
        "id": "3KK129ce9Ro5",
        "outputId": "d90b69d9-0dfc-40e0-df72-3e1dc2f38a0e"
      },
      "execution_count": 20,
      "outputs": [
        {
          "output_type": "execute_result",
          "data": {
            "text/plain": [
              "int"
            ]
          },
          "metadata": {},
          "execution_count": 20
        }
      ]
    },
    {
      "cell_type": "code",
      "source": [
        "type(b)"
      ],
      "metadata": {
        "colab": {
          "base_uri": "https://localhost:8080/"
        },
        "id": "1dKBGz7C9ZVJ",
        "outputId": "d707859b-f3e8-4d13-b1fd-d10a05a65c6c"
      },
      "execution_count": 21,
      "outputs": [
        {
          "output_type": "execute_result",
          "data": {
            "text/plain": [
              "str"
            ]
          },
          "metadata": {},
          "execution_count": 21
        }
      ]
    },
    {
      "cell_type": "code",
      "source": [
        "soma = a+b\n",
        "soma"
      ],
      "metadata": {
        "colab": {
          "base_uri": "https://localhost:8080/"
        },
        "id": "xD2fEJkO9bNk",
        "outputId": "8a4bdf7e-5af8-411c-ac4f-6d2ba5e3a0a7"
      },
      "execution_count": 30,
      "outputs": [
        {
          "output_type": "execute_result",
          "data": {
            "text/plain": [
              "20"
            ]
          },
          "metadata": {},
          "execution_count": 30
        }
      ]
    },
    {
      "cell_type": "code",
      "source": [
        "pi = 3.1416\n",
        "pi_convertido = int(pi)\n",
        "pi_convertido"
      ],
      "metadata": {
        "colab": {
          "base_uri": "https://localhost:8080/"
        },
        "id": "f6hszeYP9gP0",
        "outputId": "4c1a57cc-b3dd-4893-8118-7d3569d4bda3"
      },
      "execution_count": 31,
      "outputs": [
        {
          "output_type": "execute_result",
          "data": {
            "text/plain": [
              "3"
            ]
          },
          "metadata": {},
          "execution_count": 31
        }
      ]
    },
    {
      "cell_type": "code",
      "source": [
        "resultado = (3+15)/(2*5)\n",
        "resultado"
      ],
      "metadata": {
        "colab": {
          "base_uri": "https://localhost:8080/"
        },
        "id": "E3KAsqTl_IsM",
        "outputId": "284c4862-7ddf-49bc-e28d-897b31c5b487"
      },
      "execution_count": 39,
      "outputs": [
        {
          "output_type": "execute_result",
          "data": {
            "text/plain": [
              "1.8"
            ]
          },
          "metadata": {},
          "execution_count": 39
        }
      ]
    },
    {
      "cell_type": "code",
      "source": [
        "x = 3*(2+5)-20\n",
        "y = 2**(1/2)\n",
        "\n",
        "\n",
        "resultado = 2*((x/3)**2) + y + 1\n",
        "resultado"
      ],
      "metadata": {
        "colab": {
          "base_uri": "https://localhost:8080/"
        },
        "id": "Pm6eKR6fAP2i",
        "outputId": "d28e0579-cef8-4fd8-c8a9-dc10d7b21895"
      },
      "execution_count": 58,
      "outputs": [
        {
          "output_type": "execute_result",
          "data": {
            "text/plain": [
              "2.6364357845953172"
            ]
          },
          "metadata": {},
          "execution_count": 58
        }
      ]
    },
    {
      "cell_type": "code",
      "source": [
        "a = True\n",
        "b = False"
      ],
      "metadata": {
        "id": "M4h5oomnCSCe"
      },
      "execution_count": 62,
      "outputs": []
    },
    {
      "cell_type": "markdown",
      "source": [
        "E -> and\n",
        "\n",
        "OU -> or\n",
        "\n",
        "NÃO -> not\n",
        "\n",
        "\n",
        "\n"
      ],
      "metadata": {
        "id": "PX12IqrpMhbt"
      }
    },
    {
      "cell_type": "code",
      "source": [
        "a or b"
      ],
      "metadata": {
        "colab": {
          "base_uri": "https://localhost:8080/"
        },
        "id": "fRxh5hWzNMbh",
        "outputId": "4a8c14e4-b10b-4301-b554-8c39707b17eb"
      },
      "execution_count": 66,
      "outputs": [
        {
          "output_type": "execute_result",
          "data": {
            "text/plain": [
              "True"
            ]
          },
          "metadata": {},
          "execution_count": 66
        }
      ]
    },
    {
      "cell_type": "code",
      "source": [
        "c = not a"
      ],
      "metadata": {
        "id": "c-Mi62CWNoeH"
      },
      "execution_count": 68,
      "outputs": []
    },
    {
      "cell_type": "markdown",
      "source": [
        "Criar um programa que receba um nome e duas notas de um aluno.\n",
        "O programa deve calcular a média de duas notas. Considerar APROVADO caso a média seja maior que 7, caso contrário RREPROVADO.\n",
        "Ao final o programa deve exibir a mensagem contendo o nome do aluno, sua média e se ele foi Aprovado ou Reprovado."
      ],
      "metadata": {
        "id": "UANOwIjtOmM8"
      }
    },
    {
      "cell_type": "code",
      "source": [
        "aluno = input(\"Digite o nome do aluno:\")\n",
        "nota1 = float(input(\"Digite a nota 1:\"))\n",
        "nota2 = float(input(\"Digite a nota 2:\"))"
      ],
      "metadata": {
        "colab": {
          "base_uri": "https://localhost:8080/"
        },
        "id": "zc0c0NgoNPwJ",
        "outputId": "8b81ca51-56a7-4764-8d84-2c661d4bb5ec"
      },
      "execution_count": 83,
      "outputs": [
        {
          "name": "stdout",
          "output_type": "stream",
          "text": [
            "Digite o nome do aluno:Ricardão\n",
            "Digite a nota 1:4\n",
            "Digite a nota 2:8\n"
          ]
        }
      ]
    },
    {
      "cell_type": "code",
      "source": [
        "media = (nota1+nota2)/2\n",
        "media"
      ],
      "metadata": {
        "colab": {
          "base_uri": "https://localhost:8080/"
        },
        "id": "-tus4_ReQGXG",
        "outputId": "7f62ec13-75da-42ca-a4cb-57edf5210a5c"
      },
      "execution_count": 80,
      "outputs": [
        {
          "output_type": "execute_result",
          "data": {
            "text/plain": [
              "4.5"
            ]
          },
          "metadata": {},
          "execution_count": 80
        }
      ]
    },
    {
      "cell_type": "code",
      "source": [
        "if (media>7):\n",
        "  print(\"Nome:\",aluno)\n",
        "  print(\"Média:\",media)\n",
        "  print(\"Aprovado\")\n",
        "else:\n",
        "  print(\"Nome:\",aluno)\n",
        "  print(\"Média:\",media)\n",
        "  print(\"Reprovado\")"
      ],
      "metadata": {
        "colab": {
          "base_uri": "https://localhost:8080/"
        },
        "id": "UoY_bq6ISnjG",
        "outputId": "aca019af-a51c-4719-936b-9bd72c2dc676"
      },
      "execution_count": 85,
      "outputs": [
        {
          "output_type": "stream",
          "name": "stdout",
          "text": [
            "Nome: Ricardão\n",
            "Média: 4.5\n",
            "Reprovado\n"
          ]
        }
      ]
    }
  ]
}